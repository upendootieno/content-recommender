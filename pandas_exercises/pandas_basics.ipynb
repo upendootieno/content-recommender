{
 "cells": [
  {
   "cell_type": "markdown",
   "id": "d3bda8b6-a8ae-4570-8b01-06c3f87aedec",
   "metadata": {},
   "source": [
    "# NOTES\n",
    "## Understanding Accessors\n",
    "\n",
    "Some of Pandas methods like iloc and loc are accessor methods;\n",
    "\n",
    "https://www.geeksforgeeks.org/accessor-and-mutator-methods-in-python/\n",
    "\n",
    "### Indexing and Selecting Data\n",
    "https://www.geeksforgeeks.org/indexing-and-selecting-data-with-pandas/\n",
    "\n",
    "### Boolean Indexing\n",
    "https://www.geeksforgeeks.org/boolean-indexing-in-pandas/"
   ]
  },
  {
   "cell_type": "code",
   "execution_count": 30,
   "id": "6db67947-41f6-449d-b030-89001d9de3f4",
   "metadata": {},
   "outputs": [
    {
     "data": {
      "text/html": [
       "<div>\n",
       "<style scoped>\n",
       "    .dataframe tbody tr th:only-of-type {\n",
       "        vertical-align: middle;\n",
       "    }\n",
       "\n",
       "    .dataframe tbody tr th {\n",
       "        vertical-align: top;\n",
       "    }\n",
       "\n",
       "    .dataframe thead th {\n",
       "        text-align: right;\n",
       "    }\n",
       "</style>\n",
       "<table border=\"1\" class=\"dataframe\">\n",
       "  <thead>\n",
       "    <tr style=\"text-align: right;\">\n",
       "      <th></th>\n",
       "      <th>Salary</th>\n",
       "      <th>Experience</th>\n",
       "    </tr>\n",
       "  </thead>\n",
       "  <tbody>\n",
       "    <tr>\n",
       "      <th>0</th>\n",
       "      <td>50000</td>\n",
       "      <td>3</td>\n",
       "    </tr>\n",
       "    <tr>\n",
       "      <th>2</th>\n",
       "      <td>45000</td>\n",
       "      <td>2</td>\n",
       "    </tr>\n",
       "    <tr>\n",
       "      <th>4</th>\n",
       "      <td>70000</td>\n",
       "      <td>10</td>\n",
       "    </tr>\n",
       "  </tbody>\n",
       "</table>\n",
       "</div>"
      ],
      "text/plain": [
       "   Salary  Experience\n",
       "0   50000           3\n",
       "2   45000           2\n",
       "4   70000          10"
      ]
     },
     "execution_count": 30,
     "metadata": {},
     "output_type": "execute_result"
    }
   ],
   "source": [
    "import pandas as pd\n",
    "\n",
    "data = {\n",
    "    'Name': ['John', 'Mary', 'Bob', 'Sarah', 'Tom', 'Lisa'],\n",
    "    'Department': ['IT', 'Marketing', 'Sales', 'IT', 'Finance', 'Marketing'],\n",
    "    'Age': [30, 40, 25, 35, 45, 28],\n",
    "    'Gender': ['Male', 'Female', 'Male', 'Female', 'Male', 'Female'],\n",
    "    'Salary': [50000, 60000, 45000, 55000, 70000, 55000],\n",
    "    'Experience': [3, 7, 2, 5, 10, 4]\n",
    "}\n",
    "\n",
    "employee_df = pd.DataFrame(data)\n",
    "employee_df.iloc[:3] # Using iloc to select a range of indices\n",
    "# iloc docs: https://pandas.pydata.org/docs/reference/api/pandas.DataFrame.iloc.html\n",
    "\n",
    "employee_df.get(\"Department\") # Using get to select specified column by label\n",
    "# get docs: https://pandas.pydata.org/docs/reference/api/pandas.DataFrame.get.html\n",
    "\n",
    "mask = employee_df[\"Department\"] == \"Marketing\" # Boolean Masking\n",
    "\n",
    "# Using loc with a boolean mask to select rows by the value of a given column\n",
    "employee_df.loc[mask]\n",
    "# loc docs: https://pandas.pydata.org/docs/reference/api/pandas.DataFrame.loc.html\n",
    "\n",
    "# Getting specific columns\n",
    "employee_df.iloc[:4].get([\"Age\",\"Gender\"])\n",
    "mask = employee_df[\"Gender\"] == \"Male\"\n",
    "employee_df.loc[mask].get([\"Salary\", \"Experience\"])"
   ]
  },
  {
   "cell_type": "code",
   "execution_count": null,
   "id": "b64f5abd-44a1-4b71-bbb2-85472a23c47c",
   "metadata": {},
   "outputs": [],
   "source": []
  }
 ],
 "metadata": {
  "kernelspec": {
   "display_name": "Python 3 (ipykernel)",
   "language": "python",
   "name": "python3"
  },
  "language_info": {
   "codemirror_mode": {
    "name": "ipython",
    "version": 3
   },
   "file_extension": ".py",
   "mimetype": "text/x-python",
   "name": "python",
   "nbconvert_exporter": "python",
   "pygments_lexer": "ipython3",
   "version": "3.13.0"
  }
 },
 "nbformat": 4,
 "nbformat_minor": 5
}
